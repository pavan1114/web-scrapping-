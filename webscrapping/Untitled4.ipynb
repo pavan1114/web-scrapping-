{
  "nbformat": 4,
  "nbformat_minor": 0,
  "metadata": {
    "colab": {
      "name": "Untitled4.ipynb",
      "provenance": []
    },
    "kernelspec": {
      "name": "python3",
      "display_name": "Python 3"
    },
    "language_info": {
      "name": "python"
    }
  },
  "cells": [
    {
      "cell_type": "code",
      "metadata": {
        "id": "h8jeTt_2lFcZ"
      },
      "source": [
        "import bs4 as bs\n",
        "import urllib.request as url_x\n",
        "import pandas as pd"
      ],
      "execution_count": 1,
      "outputs": []
    },
    {
      "cell_type": "code",
      "metadata": {
        "id": "dfo9vWUtlKF0"
      },
      "source": [
        "BusinesNames=[]\n",
        "Phone=[]\n",
        "Address=[]\n",
        "\n",
        "\n",
        "url = \"https://www.yelp.com/search?cflt=restaurants&find_loc=San+Francisco%2C+CA\"\n",
        "\n",
        "urlsource=''+url+'&start='"
      ],
      "execution_count": 5,
      "outputs": []
    },
    {
      "cell_type": "code",
      "metadata": {
        "colab": {
          "base_uri": "https://localhost:8080/"
        },
        "id": "UhhAWbZalK9P",
        "outputId": "482f7a12-5977-48ed-f116-2fe1492fba97"
      },
      "source": [
        "no_of_pages=5\n",
        "for iteration in range(no_of_pages):\n",
        "  s=iteration*10\n",
        "  if(s==0):\n",
        "    s=1\n",
        "  source = url_x.urlopen(urlsource+str(s))\n",
        "  print(urlsource+str(s))\n",
        "\n",
        "  page_soup = bs.BeautifulSoup(source, 'html.parser')\n",
        "\n",
        "  mains = page_soup.find_all(\"span\", {\"class\": \"  css-1pxmz4g\"})\n",
        "  for main in mains:\n",
        "      try:\n",
        "          busname = main.find(\"a\", {\"class\" : \"css-166la90\"}).text\n",
        "          BusinesNames.append(busname)\n",
        "      except:\n",
        "          print(\"Information not provided\")\n",
        "  print('Loading......')\n",
        "print('Done with processing...')"
      ],
      "execution_count": 9,
      "outputs": [
        {
          "output_type": "stream",
          "text": [
            "https://www.yelp.com/search?cflt=restaurants&find_loc=San+Francisco%2C+CA&start=1\n",
            "Loading......\n",
            "https://www.yelp.com/search?cflt=restaurants&find_loc=San+Francisco%2C+CA&start=10\n",
            "Loading......\n",
            "https://www.yelp.com/search?cflt=restaurants&find_loc=San+Francisco%2C+CA&start=20\n",
            "Loading......\n",
            "https://www.yelp.com/search?cflt=restaurants&find_loc=San+Francisco%2C+CA&start=30\n",
            "Loading......\n",
            "https://www.yelp.com/search?cflt=restaurants&find_loc=San+Francisco%2C+CA&start=40\n",
            "Loading......\n",
            "Done with processing...\n"
          ],
          "name": "stdout"
        }
      ]
    },
    {
      "cell_type": "code",
      "metadata": {
        "colab": {
          "base_uri": "https://localhost:8080/"
        },
        "id": "Pu91zTOEpV4U",
        "outputId": "229a73a1-9d4b-444d-c603-9707fffdce23"
      },
      "source": [
        "BusinesNames"
      ],
      "execution_count": 10,
      "outputs": [
        {
          "output_type": "execute_result",
          "data": {
            "text/plain": [
              "[]"
            ]
          },
          "metadata": {
            "tags": []
          },
          "execution_count": 10
        }
      ]
    },
    {
      "cell_type": "code",
      "metadata": {
        "colab": {
          "base_uri": "https://localhost:8080/"
        },
        "id": "wJcKl41DplSw",
        "outputId": "bd3ab1ca-5280-48e8-deed-e5d431bd6975"
      },
      "source": [
        "Phone"
      ],
      "execution_count": 11,
      "outputs": [
        {
          "output_type": "execute_result",
          "data": {
            "text/plain": [
              "[]"
            ]
          },
          "metadata": {
            "tags": []
          },
          "execution_count": 11
        }
      ]
    },
    {
      "cell_type": "code",
      "metadata": {
        "colab": {
          "base_uri": "https://localhost:8080/"
        },
        "id": "fy0x2jbmppAI",
        "outputId": "efb88fea-024c-4a06-c988-4b0135be4985"
      },
      "source": [
        "Address"
      ],
      "execution_count": 12,
      "outputs": [
        {
          "output_type": "execute_result",
          "data": {
            "text/plain": [
              "[]"
            ]
          },
          "metadata": {
            "tags": []
          },
          "execution_count": 12
        }
      ]
    },
    {
      "cell_type": "code",
      "metadata": {
        "id": "NxGgAfoBq0M1"
      },
      "source": [
        "dictionary = {'BusinessNames': BusinessNames, 'Phone': Phone} \n",
        "\n",
        "\n",
        "amul=pd.DataFrame(dict([(k,pd.Series(v)) for k,v in dictionary.items()]))"
      ],
      "execution_count": null,
      "outputs": []
    },
    {
      "cell_type": "code",
      "metadata": {
        "id": "lD-w-mo6q4JM"
      },
      "source": [
        "amul"
      ],
      "execution_count": null,
      "outputs": []
    }
  ]
}